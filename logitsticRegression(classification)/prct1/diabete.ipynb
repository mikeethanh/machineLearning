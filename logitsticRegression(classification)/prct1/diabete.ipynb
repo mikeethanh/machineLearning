{
 "cells": [
  {
   "cell_type": "code",
   "execution_count": 28,
   "metadata": {},
   "outputs": [],
   "source": [
    "import pandas as pd \n",
    "import numpy as np\n",
    "import matplotlib.pyplot as plt "
   ]
  },
  {
   "cell_type": "code",
   "execution_count": 29,
   "metadata": {},
   "outputs": [
    {
     "data": {
      "text/html": [
       "<div>\n",
       "<style scoped>\n",
       "    .dataframe tbody tr th:only-of-type {\n",
       "        vertical-align: middle;\n",
       "    }\n",
       "\n",
       "    .dataframe tbody tr th {\n",
       "        vertical-align: top;\n",
       "    }\n",
       "\n",
       "    .dataframe thead th {\n",
       "        text-align: right;\n",
       "    }\n",
       "</style>\n",
       "<table border=\"1\" class=\"dataframe\">\n",
       "  <thead>\n",
       "    <tr style=\"text-align: right;\">\n",
       "      <th></th>\n",
       "      <th>Pregnancies</th>\n",
       "      <th>Glucose</th>\n",
       "      <th>BloodPressure</th>\n",
       "      <th>SkinThickness</th>\n",
       "      <th>Insulin</th>\n",
       "      <th>BMI</th>\n",
       "      <th>DiabetesPedigreeFunction</th>\n",
       "      <th>Age</th>\n",
       "      <th>Outcome</th>\n",
       "    </tr>\n",
       "  </thead>\n",
       "  <tbody>\n",
       "    <tr>\n",
       "      <th>428</th>\n",
       "      <td>0</td>\n",
       "      <td>135</td>\n",
       "      <td>94</td>\n",
       "      <td>46</td>\n",
       "      <td>145</td>\n",
       "      <td>40.6</td>\n",
       "      <td>0.284</td>\n",
       "      <td>26</td>\n",
       "      <td>0</td>\n",
       "    </tr>\n",
       "    <tr>\n",
       "      <th>755</th>\n",
       "      <td>1</td>\n",
       "      <td>128</td>\n",
       "      <td>88</td>\n",
       "      <td>39</td>\n",
       "      <td>110</td>\n",
       "      <td>36.5</td>\n",
       "      <td>1.057</td>\n",
       "      <td>37</td>\n",
       "      <td>1</td>\n",
       "    </tr>\n",
       "    <tr>\n",
       "      <th>581</th>\n",
       "      <td>6</td>\n",
       "      <td>109</td>\n",
       "      <td>60</td>\n",
       "      <td>27</td>\n",
       "      <td>0</td>\n",
       "      <td>25.0</td>\n",
       "      <td>0.206</td>\n",
       "      <td>27</td>\n",
       "      <td>0</td>\n",
       "    </tr>\n",
       "    <tr>\n",
       "      <th>44</th>\n",
       "      <td>7</td>\n",
       "      <td>159</td>\n",
       "      <td>64</td>\n",
       "      <td>0</td>\n",
       "      <td>0</td>\n",
       "      <td>27.4</td>\n",
       "      <td>0.294</td>\n",
       "      <td>40</td>\n",
       "      <td>0</td>\n",
       "    </tr>\n",
       "    <tr>\n",
       "      <th>465</th>\n",
       "      <td>0</td>\n",
       "      <td>124</td>\n",
       "      <td>56</td>\n",
       "      <td>13</td>\n",
       "      <td>105</td>\n",
       "      <td>21.8</td>\n",
       "      <td>0.452</td>\n",
       "      <td>21</td>\n",
       "      <td>0</td>\n",
       "    </tr>\n",
       "  </tbody>\n",
       "</table>\n",
       "</div>"
      ],
      "text/plain": [
       "     Pregnancies  Glucose  BloodPressure  SkinThickness  Insulin   BMI  \\\n",
       "428            0      135             94             46      145  40.6   \n",
       "755            1      128             88             39      110  36.5   \n",
       "581            6      109             60             27        0  25.0   \n",
       "44             7      159             64              0        0  27.4   \n",
       "465            0      124             56             13      105  21.8   \n",
       "\n",
       "     DiabetesPedigreeFunction  Age  Outcome  \n",
       "428                     0.284   26        0  \n",
       "755                     1.057   37        1  \n",
       "581                     0.206   27        0  \n",
       "44                      0.294   40        0  \n",
       "465                     0.452   21        0  "
      ]
     },
     "execution_count": 29,
     "metadata": {},
     "output_type": "execute_result"
    }
   ],
   "source": [
    "data = pd.read_csv('./diabetes2.csv')\n",
    "data.sample(5)"
   ]
  },
  {
   "cell_type": "code",
   "execution_count": 30,
   "metadata": {},
   "outputs": [
    {
     "data": {
      "text/plain": [
       "Pregnancies                   int64\n",
       "Glucose                       int64\n",
       "BloodPressure                 int64\n",
       "SkinThickness                 int64\n",
       "Insulin                       int64\n",
       "BMI                         float64\n",
       "DiabetesPedigreeFunction    float64\n",
       "Age                           int64\n",
       "Outcome                       int64\n",
       "dtype: object"
      ]
     },
     "execution_count": 30,
     "metadata": {},
     "output_type": "execute_result"
    }
   ],
   "source": [
    "data.dtypes"
   ]
  },
  {
   "cell_type": "code",
   "execution_count": 31,
   "metadata": {},
   "outputs": [
    {
     "data": {
      "text/plain": [
       "(768, 9)"
      ]
     },
     "execution_count": 31,
     "metadata": {},
     "output_type": "execute_result"
    }
   ],
   "source": [
    "data.shape"
   ]
  },
  {
   "cell_type": "code",
   "execution_count": 32,
   "metadata": {},
   "outputs": [
    {
     "name": "stdout",
     "output_type": "stream",
     "text": [
      "Pregnancies : [ 6  1  8  0  5  3 10  2  4  7  9 11 13 15 17 12 14]\n",
      "Glucose : [148  85 183  89 137 116  78 115 197 125 110 168 139 189 166 100 118 107\n",
      " 103 126  99 196 119 143 147  97 145 117 109 158  88  92 122 138 102  90\n",
      " 111 180 133 106 171 159 146  71 105 101 176 150  73 187  84  44 141 114\n",
      "  95 129  79   0  62 131 112 113  74  83 136  80 123  81 134 142 144  93\n",
      " 163 151  96 155  76 160 124 162 132 120 173 170 128 108 154  57 156 153\n",
      " 188 152 104  87  75 179 130 194 181 135 184 140 177 164  91 165  86 193\n",
      " 191 161 167  77 182 157 178  61  98 127  82  72 172  94 175 195  68 186\n",
      " 198 121  67 174 199  56 169 149  65 190]\n",
      "BloodPressure : [ 72  66  64  40  74  50   0  70  96  92  80  60  84  30  88  90  94  76\n",
      "  82  75  58  78  68 110  56  62  85  86  48  44  65 108  55 122  54  52\n",
      "  98 104  95  46 102 100  61  24  38 106 114]\n",
      "SkinThickness : [35 29  0 23 32 45 19 47 38 30 41 33 26 15 36 11 31 37 42 25 18 24 39 27\n",
      " 21 34 10 60 13 20 22 28 54 40 51 56 14 17 50 44 12 46 16  7 52 43 48  8\n",
      " 49 63 99]\n",
      "Insulin : [  0  94 168  88 543 846 175 230  83  96 235 146 115 140 110 245  54 192\n",
      " 207  70 240  82  36  23 300 342 304 142 128  38 100  90 270  71 125 176\n",
      "  48  64 228  76 220  40 152  18 135 495  37  51  99 145 225  49  50  92\n",
      " 325  63 284 119 204 155 485  53 114 105 285 156  78 130  55  58 160 210\n",
      " 318  44 190 280  87 271 129 120 478  56  32 744 370  45 194 680 402 258\n",
      " 375 150  67  57 116 278 122 545  75  74 182 360 215 184  42 132 148 180\n",
      " 205  85 231  29  68  52 255 171  73 108  43 167 249 293  66 465  89 158\n",
      "  84  72  59  81 196 415 275 165 579 310  61 474 170 277  60  14  95 237\n",
      " 191 328 250 480 265 193  79  86 326 188 106  65 166 274  77 126 330 600\n",
      " 185  25  41 272 321 144  15 183  91  46 440 159 540 200 335 387  22 291\n",
      " 392 178 127 510  16 112]\n",
      "BMI : [33.6 26.6 23.3 28.1 43.1 25.6 31.  35.3 30.5  0.  37.6 38.  27.1 30.1\n",
      " 25.8 30.  45.8 29.6 43.3 34.6 39.3 35.4 39.8 29.  36.6 31.1 39.4 23.2\n",
      " 22.2 34.1 36.  31.6 24.8 19.9 27.6 24.  33.2 32.9 38.2 37.1 34.  40.2\n",
      " 22.7 45.4 27.4 42.  29.7 28.  39.1 19.4 24.2 24.4 33.7 34.7 23.  37.7\n",
      " 46.8 40.5 41.5 25.  25.4 32.8 32.5 42.7 19.6 28.9 28.6 43.4 35.1 32.\n",
      " 24.7 32.6 43.2 22.4 29.3 24.6 48.8 32.4 38.5 26.5 19.1 46.7 23.8 33.9\n",
      " 20.4 28.7 49.7 39.  26.1 22.5 39.6 29.5 34.3 37.4 33.3 31.2 28.2 53.2\n",
      " 34.2 26.8 55.  42.9 34.5 27.9 38.3 21.1 33.8 30.8 36.9 39.5 27.3 21.9\n",
      " 40.6 47.9 50.  25.2 40.9 37.2 44.2 29.9 31.9 28.4 43.5 32.7 67.1 45.\n",
      " 34.9 27.7 35.9 22.6 33.1 30.4 52.3 24.3 22.9 34.8 30.9 40.1 23.9 37.5\n",
      " 35.5 42.8 42.6 41.8 35.8 37.8 28.8 23.6 35.7 36.7 45.2 44.  46.2 35.\n",
      " 43.6 44.1 18.4 29.2 25.9 32.1 36.3 40.  25.1 27.5 45.6 27.8 24.9 25.3\n",
      " 37.9 27.  26.  38.7 20.8 36.1 30.7 32.3 52.9 21.  39.7 25.5 26.2 19.3\n",
      " 38.1 23.5 45.5 23.1 39.9 36.8 21.8 41.  42.2 34.4 27.2 36.5 29.8 39.2\n",
      " 38.4 36.2 48.3 20.  22.3 45.7 23.7 22.1 42.1 42.4 18.2 26.4 45.3 37.\n",
      " 24.5 32.2 59.4 21.2 26.7 30.2 46.1 41.3 38.8 35.2 42.3 40.7 46.5 33.5\n",
      " 37.3 30.3 26.3 21.7 36.4 28.5 26.9 38.6 31.3 19.5 20.1 40.8 23.4 28.3\n",
      " 38.9 57.3 35.6 49.6 44.6 24.1 44.5 41.2 49.3 46.3]\n",
      "DiabetesPedigreeFunction : [0.627 0.351 0.672 0.167 2.288 0.201 0.248 0.134 0.158 0.232 0.191 0.537\n",
      " 1.441 0.398 0.587 0.484 0.551 0.254 0.183 0.529 0.704 0.388 0.451 0.263\n",
      " 0.205 0.257 0.487 0.245 0.337 0.546 0.851 0.267 0.188 0.512 0.966 0.42\n",
      " 0.665 0.503 1.39  0.271 0.696 0.235 0.721 0.294 1.893 0.564 0.586 0.344\n",
      " 0.305 0.491 0.526 0.342 0.467 0.718 0.962 1.781 0.173 0.304 0.27  0.699\n",
      " 0.258 0.203 0.855 0.845 0.334 0.189 0.867 0.411 0.583 0.231 0.396 0.14\n",
      " 0.391 0.37  0.307 0.102 0.767 0.237 0.227 0.698 0.178 0.324 0.153 0.165\n",
      " 0.443 0.261 0.277 0.761 0.255 0.13  0.323 0.356 0.325 1.222 0.179 0.262\n",
      " 0.283 0.93  0.801 0.207 0.287 0.336 0.247 0.199 0.543 0.192 0.588 0.539\n",
      " 0.22  0.654 0.223 0.759 0.26  0.404 0.186 0.278 0.496 0.452 0.403 0.741\n",
      " 0.361 1.114 0.457 0.647 0.088 0.597 0.532 0.703 0.159 0.268 0.286 0.318\n",
      " 0.272 0.572 0.096 1.4   0.218 0.085 0.399 0.432 1.189 0.687 0.137 0.637\n",
      " 0.833 0.229 0.817 0.204 0.368 0.743 0.722 0.256 0.709 0.471 0.495 0.18\n",
      " 0.542 0.773 0.678 0.719 0.382 0.319 0.19  0.956 0.084 0.725 0.299 0.244\n",
      " 0.745 0.615 1.321 0.64  0.142 0.374 0.383 0.578 0.136 0.395 0.187 0.905\n",
      " 0.15  0.874 0.236 0.787 0.407 0.605 0.151 0.289 0.355 0.29  0.375 0.164\n",
      " 0.431 0.742 0.514 0.464 1.224 1.072 0.805 0.209 0.666 0.101 0.198 0.652\n",
      " 2.329 0.089 0.645 0.238 0.394 0.293 0.479 0.686 0.831 0.582 0.446 0.402\n",
      " 1.318 0.329 1.213 0.427 0.282 0.143 0.38  0.284 0.249 0.926 0.557 0.092\n",
      " 0.655 1.353 0.612 0.2   0.226 0.997 0.933 1.101 0.078 0.24  1.136 0.128\n",
      " 0.422 0.251 0.677 0.296 0.454 0.744 0.881 0.28  0.259 0.619 0.808 0.34\n",
      " 0.434 0.757 0.613 0.692 0.52  0.412 0.84  0.839 0.156 0.215 0.326 1.391\n",
      " 0.875 0.313 0.433 0.626 1.127 0.315 0.345 0.129 0.527 0.197 0.731 0.148\n",
      " 0.123 0.127 0.122 1.476 0.166 0.932 0.343 0.893 0.331 0.472 0.673 0.389\n",
      " 0.485 0.349 0.279 0.346 0.252 0.243 0.58  0.559 0.302 0.569 0.378 0.385\n",
      " 0.499 0.306 0.234 2.137 1.731 0.545 0.225 0.816 0.528 0.509 1.021 0.821\n",
      " 0.947 1.268 0.221 0.66  0.239 0.949 0.444 0.463 0.803 1.6   0.944 0.196\n",
      " 0.241 0.161 0.135 0.376 1.191 0.702 0.674 1.076 0.534 1.095 0.554 0.624\n",
      " 0.219 0.507 0.561 0.421 0.516 0.264 0.328 0.233 0.108 1.138 0.147 0.727\n",
      " 0.435 0.497 0.23  0.955 2.42  0.658 0.33  0.51  0.285 0.415 0.381 0.832\n",
      " 0.498 0.212 0.364 1.001 0.46  0.733 0.416 0.705 1.022 0.269 0.6   0.571\n",
      " 0.607 0.17  0.21  0.126 0.711 0.466 0.162 0.419 0.63  0.365 0.536 1.159\n",
      " 0.629 0.292 0.145 1.144 0.174 0.547 0.163 0.738 0.314 0.968 0.409 0.297\n",
      " 0.525 0.154 0.771 0.107 0.493 0.717 0.917 0.501 1.251 0.735 0.804 0.661\n",
      " 0.549 0.825 0.423 1.034 0.16  0.341 0.68  0.591 0.3   0.121 0.502 0.401\n",
      " 0.601 0.748 0.338 0.43  0.892 0.813 0.693 0.575 0.371 0.206 0.417 1.154\n",
      " 0.925 0.175 1.699 0.682 0.194 0.4   0.1   1.258 0.482 0.138 0.593 0.878\n",
      " 0.157 1.282 0.141 0.246 1.698 1.461 0.347 0.362 0.393 0.144 0.732 0.115\n",
      " 0.465 0.649 0.871 0.149 0.695 0.303 0.61  0.73  0.447 0.455 0.133 0.155\n",
      " 1.162 1.292 0.182 1.394 0.217 0.631 0.88  0.614 0.332 0.366 0.181 0.828\n",
      " 0.335 0.856 0.886 0.439 0.253 0.598 0.904 0.483 0.565 0.118 0.177 0.176\n",
      " 0.295 0.441 0.352 0.826 0.97  0.595 0.317 0.265 0.646 0.426 0.56  0.515\n",
      " 0.453 0.785 0.734 1.174 0.488 0.358 1.096 0.408 1.182 0.222 1.057 0.766\n",
      " 0.171]\n",
      "Age : [50 31 32 21 33 30 26 29 53 54 34 57 59 51 27 41 43 22 38 60 28 45 35 46\n",
      " 56 37 48 40 25 24 58 42 44 39 36 23 61 69 62 55 65 47 52 66 49 63 67 72\n",
      " 81 64 70 68]\n",
      "Outcome : [1 0]\n"
     ]
    }
   ],
   "source": [
    "for columns in data:\n",
    "    print(f'{columns} : {data[columns].unique()}')"
   ]
  },
  {
   "cell_type": "code",
   "execution_count": 33,
   "metadata": {},
   "outputs": [
    {
     "data": {
      "text/plain": [
       "<matplotlib.legend.Legend at 0x22a2fed73d0>"
      ]
     },
     "execution_count": 33,
     "metadata": {},
     "output_type": "execute_result"
    },
    {
     "data": {
      "image/png": "[encoded data removed]",
      "text/plain": [
       "<Figure size 640x480 with 1 Axes>"
      ]
     },
     "metadata": {},
     "output_type": "display_data"
    }
   ],
   "source": [
    "AgeDiabeteYes = data[data['Outcome'] == 1].Age\n",
    "AgeDiabeteNo = data[data['Outcome'] == 0].Age\n",
    "\n",
    "plt.xlabel('Age')\n",
    "plt.ylabel('numberOfPatient')\n",
    "plt.title('Prediction Patient Diabettes')\n",
    "plt.hist([AgeDiabeteYes,AgeDiabeteNo], rwidth=0.95 ,color = ['red','green'],label = ['Yes','No'])\n",
    "plt.legend()"
   ]
  },
  {
   "cell_type": "code",
   "execution_count": 34,
   "metadata": {},
   "outputs": [
    {
     "data": {
      "text/plain": [
       "<matplotlib.legend.Legend at 0x22a4389b890>"
      ]
     },
     "execution_count": 34,
     "metadata": {},
     "output_type": "execute_result"
    },
    {
     "data": {
      "image/png": "[encoded data removed]",
      "text/plain": [
       "<Figure size 640x480 with 1 Axes>"
      ]
     },
     "metadata": {},
     "output_type": "display_data"
    }
   ],
   "source": [
    "BloodPressureDiabeteYes = data[data['Outcome'] == 1].BloodPressure\n",
    "BloodPressureDiabeteNo = data[data['Outcome'] == 0].BloodPressure\n",
    "\n",
    "plt.xlabel('BloodPressure')\n",
    "plt.ylabel('numberOfPatient')\n",
    "plt.title('Prediction Patient Diabettes')\n",
    "plt.hist([BloodPressureDiabeteYes,BloodPressureDiabeteNo], rwidth=0.95 ,color = ['red','green'],label = ['Yes','No'])\n",
    "plt.legend()"
   ]
  },
  {
   "cell_type": "code",
   "execution_count": 35,
   "metadata": {},
   "outputs": [
    {
     "data": {
      "text/plain": [
       "Pregnancies                   int64\n",
       "Glucose                       int64\n",
       "BloodPressure                 int64\n",
       "SkinThickness                 int64\n",
       "Insulin                       int64\n",
       "BMI                         float64\n",
       "DiabetesPedigreeFunction    float64\n",
       "Age                           int64\n",
       "Outcome                       int64\n",
       "dtype: object"
      ]
     },
     "execution_count": 35,
     "metadata": {},
     "output_type": "execute_result"
    }
   ],
   "source": [
    "data.dtypes"
   ]
  },
  {
   "cell_type": "code",
   "execution_count": 36,
   "metadata": {},
   "outputs": [],
   "source": [
    "def maxCol(data):\n",
    "    for columns in data:\n",
    "        print(f'{columns} : {data[columns].max()}')"
   ]
  },
  {
   "cell_type": "code",
   "execution_count": 37,
   "metadata": {},
   "outputs": [
    {
     "name": "stdout",
     "output_type": "stream",
     "text": [
      "Pregnancies : 17\n",
      "Glucose : 199\n",
      "BloodPressure : 122\n",
      "SkinThickness : 99\n",
      "Insulin : 846\n",
      "BMI : 67.1\n",
      "DiabetesPedigreeFunction : 2.42\n",
      "Age : 81\n",
      "Outcome : 1\n"
     ]
    }
   ],
   "source": [
    "maxCol(data)"
   ]
  },
  {
   "cell_type": "code",
   "execution_count": 38,
   "metadata": {},
   "outputs": [],
   "source": [
    "from sklearn.preprocessing import scale\n",
    "colToScale = ['Pregnancies','Glucose','BloodPressure','SkinThickness','Insulin','BMI','DiabetesPedigreeFunction','Age']\n",
    "data[colToScale] =scale(data[colToScale])\n",
    "\n"
   ]
  },
  {
   "cell_type": "code",
   "execution_count": 39,
   "metadata": {},
   "outputs": [
    {
     "name": "stdout",
     "output_type": "stream",
     "text": [
      "Pregnancies : [ 0.63994726 -0.84488505  1.23388019 -1.14185152  0.3429808  -0.25095213\n",
      "  1.82781311 -0.54791859  0.04601433  0.93691372  1.53084665  2.12477957\n",
      "  2.7187125   3.31264542  3.90657835  2.42174604  3.01567896]\n",
      "Glucose : [ 8.48323795e-01 -1.12339636e+00  1.94372388e+00 -9.98207780e-01\n",
      "  5.04055196e-01 -1.53184856e-01 -1.34247638e+00 -1.84482001e-01\n",
      "  2.38188392e+00  1.28489452e-01 -3.40967728e-01  1.47426670e+00\n",
      "  5.66649487e-01  2.13150675e+00  1.41167241e+00 -6.53939181e-01\n",
      " -9.05905652e-02 -4.34859164e-01 -5.60047745e-01  1.59786597e-01\n",
      " -6.85236326e-01  2.35058677e+00 -5.92934199e-02  6.91838068e-01\n",
      "  8.17026649e-01 -7.47830617e-01  7.54432359e-01 -1.21887711e-01\n",
      " -3.72264873e-01  1.16129525e+00 -1.02950492e+00 -9.04316344e-01\n",
      "  3.45980161e-02  5.35352341e-01 -5.91344890e-01 -9.66910634e-01\n",
      " -3.09670582e-01  1.84983245e+00  3.78866615e-01 -4.66156309e-01\n",
      "  1.56815814e+00  1.19259239e+00  7.85729504e-01 -1.56155640e+00\n",
      " -4.97453454e-01 -6.22642036e-01  1.72464386e+00  9.10918085e-01\n",
      " -1.49896210e+00  2.06891246e+00 -1.15469351e+00 -2.40657932e+00\n",
      "  6.29243777e-01 -2.15779146e-01 -8.10424908e-01  2.53678033e-01\n",
      " -1.31117923e+00 -3.78365371e+00 -1.84323070e+00  3.16272324e-01\n",
      " -2.78373437e-01 -2.47076292e-01 -1.46766496e+00 -1.18599065e+00\n",
      "  4.72758051e-01 -1.27988209e+00  6.58951615e-02 -1.24858494e+00\n",
      "  4.10163760e-01  6.60540923e-01  7.23135213e-01 -8.73019198e-01\n",
      "  1.31778097e+00  9.42215231e-01 -7.79127762e-01  1.06740381e+00\n",
      " -1.40507067e+00  1.22388954e+00  9.71923068e-02  1.28648383e+00\n",
      "  3.47569469e-01 -2.79962745e-02  1.63075243e+00  1.53686099e+00\n",
      "  2.22380888e-01 -4.03562018e-01  1.03610667e+00 -1.99971643e+00\n",
      "  1.09870096e+00  1.00480952e+00  2.10020961e+00  9.73512376e-01\n",
      " -5.28750600e-01 -1.06080207e+00 -1.43636781e+00  1.81853530e+00\n",
      "  2.84975179e-01  2.28799248e+00  1.88112959e+00  4.41460905e-01\n",
      "  1.97502103e+00  5.97946632e-01  1.75594101e+00  1.34907812e+00\n",
      " -9.35613489e-01  1.38037527e+00 -1.09209922e+00  2.25669533e+00\n",
      "  2.19410104e+00  1.25518668e+00  1.44296956e+00 -1.37377352e+00\n",
      "  1.91242674e+00  1.12999810e+00  1.78723815e+00 -1.87452785e+00\n",
      " -7.16533472e-01  1.91083743e-01 -1.21728780e+00 -1.53025925e+00\n",
      "  1.59945528e+00 -8.41722053e-01  1.69334672e+00  2.31928962e+00\n",
      " -1.65544783e+00  2.03761532e+00  2.41318106e+00  3.30087080e-03\n",
      " -1.68674498e+00  1.66204957e+00  2.44447821e+00 -2.03101358e+00\n",
      "  1.50556385e+00  8.79620940e-01 -1.74933927e+00  2.16280390e+00]\n",
      "BloodPressure : [ 0.14964075 -0.16054575 -0.26394125 -1.50468724  0.25303625 -0.98770975\n",
      " -3.57259724  0.04624525  1.39038675  1.18359575  0.56322275 -0.47073225\n",
      "  0.77001375 -2.02166474  0.97680475  1.08020025  1.28699125  0.35643175\n",
      "  0.66661825  0.304734   -0.57412775  0.45982725 -0.05715025  2.11415525\n",
      " -0.67752325 -0.36733675  0.8217115   0.87340925 -1.09110524 -1.29789624\n",
      " -0.2122435   2.01075975 -0.729221    2.73452825 -0.78091875 -0.88431425\n",
      "  1.49378225  1.80396875  1.338689   -1.19450074  1.70057325  1.59717775\n",
      " -0.4190345  -2.33185124 -1.60808274  1.90736425  2.32094625]\n",
      "SkinThickness : [ 0.90726993  0.53090156 -1.28821221  0.15453319  0.71908574  1.53455054\n",
      " -0.09637905  1.66000666  1.09545411  0.59362962  1.28363829  0.7818138\n",
      "  0.34271738 -0.3472913   0.96999799 -0.59820354  0.65635768  1.03272605\n",
      "  1.34636635  0.27998931 -0.15910711  0.21726125  1.15818217  0.40544544\n",
      "  0.02907707  0.84454186 -0.6609316   2.47547145 -0.47274742 -0.03365099\n",
      "  0.09180513  0.4681735   2.09910309  1.22091023  1.9109189   2.22455921\n",
      " -0.41001936 -0.22183517  1.84819084  1.47182248 -0.53547548  1.5972786\n",
      " -0.28456324 -0.84911579  1.97364696  1.40909441  1.72273472 -0.78638772\n",
      "  1.78546278  2.66365564  4.92186584]\n",
      "Insulin : [-0.69289057  0.12330164  0.76583594  0.07120427  4.02192191  6.65283938\n",
      "  0.82661621  1.30417549  0.02778979  0.14066744  1.34758997  0.57481223\n",
      "  0.30564246  0.52271486  0.26222798  1.43441893 -0.22401419  0.97422544\n",
      "  1.10446888 -0.08508786  1.39100445  0.01910689 -0.38030632 -0.49318397\n",
      "  1.9119782   2.27665983  1.94670979  0.54008065  0.41852011 -0.36294053\n",
      "  0.17539902  0.08857006  1.65149133 -0.07640496  0.39247142  0.83529911\n",
      " -0.27611157 -0.13718523  1.2868097  -0.03299048  1.21734653 -0.34557474\n",
      "  0.62690961 -0.53659845  0.47930038  3.60514291 -0.37162342 -0.25006288\n",
      "  0.16671612  0.56612934  1.26076101 -0.26742867 -0.25874578  0.10593585\n",
      "  2.1290506  -0.14586813  1.77305187  0.34037404  1.0784202   0.6529583\n",
      "  3.51831395 -0.23269709  0.29695956  0.2188135   1.78173477  0.66164119\n",
      " -0.01562469  0.4358859  -0.2153313  -0.18928261  0.69637278  1.13051757\n",
      "  2.06827033 -0.31084315  0.95685965  1.73832029  0.06252137  1.66017422\n",
      "  0.427203    0.34905694  3.45753368 -0.2066484  -0.4150379   5.76718399\n",
      "  2.51978092 -0.30216026  0.99159124  5.21147866  2.79763359  1.54729658\n",
      "  2.5631954   0.60954382 -0.11113655 -0.1979655   0.31432535  1.72095449\n",
      "  0.36642273  4.03928771 -0.04167338 -0.05035627  0.88739649  2.43295196\n",
      "  1.17393205  0.90476228 -0.32820894  0.45325169  0.59217802  0.87003069\n",
      "  1.08710309  0.04515558  1.31285839 -0.44108659 -0.10245365 -0.24137998\n",
      "  1.52124789  0.79188463 -0.05903917  0.24486219 -0.31952605  0.75715305\n",
      "  1.46915051  1.85119793 -0.11981944  3.34465603  0.07988716  0.67900698\n",
      "  0.03647269 -0.06772207 -0.18059971  0.010424    1.00895703  2.91051124\n",
      "  1.69490581  0.73978725  4.33450617  1.99880716 -0.16323392  3.4228021\n",
      "  0.78320173  1.7122716  -0.17191682 -0.57133003  0.13198454  1.36495576\n",
      "  0.96554255  2.15509929  1.47783341  3.47489947  1.60807685  0.98290834\n",
      " -0.00694179  0.05383848  2.1377335   0.93949386  0.2274964  -0.12850234\n",
      "  0.74847015  1.68622291 -0.02430759  0.40115431  2.17246508  4.51684698\n",
      "  0.91344517 -0.47581817 -0.33689184  1.66885712  2.09431902  0.55744644\n",
      " -0.56264713  0.89607938  0.09725296 -0.29347736  3.12758363  0.68768988\n",
      "  3.99587323  1.04368861  2.21587956  2.66739015 -0.50186686  1.83383214\n",
      "  2.71080463  0.8526649   0.40983721  3.73538635 -0.55396424  0.27959377]\n",
      "BMI : [ 2.04012771e-01 -6.84421946e-01 -1.10325546e+00 -4.94043078e-01\n",
      "  1.40974560e+00 -8.11341192e-01 -1.25977267e-01  4.19775488e-01\n",
      " -1.89436889e-01 -4.06047387e+00  7.11689753e-01  7.62457451e-01\n",
      " -6.20962323e-01 -2.40204587e-01 -7.85957342e-01 -2.52896512e-01\n",
      "  1.75242756e+00 -3.03664210e-01  1.43512945e+00  3.30932017e-01\n",
      "  9.27452470e-01  4.32467413e-01  9.90912093e-01 -3.79815757e-01\n",
      "  5.84770507e-01 -1.13285342e-01  9.40144394e-01 -1.11594738e+00\n",
      " -1.24286663e+00  2.67472394e-01  5.08618960e-01 -4.98257194e-02\n",
      " -9.12876588e-01 -1.53478089e+00 -5.57502701e-01 -1.01441198e+00\n",
      "  1.53245073e-01  1.15169300e-01  7.87841300e-01  6.48230130e-01\n",
      "  2.54780469e-01  1.04167979e+00 -1.17940700e+00  1.70165987e+00\n",
      " -5.82886550e-01  1.27013443e+00 -2.90972286e-01 -5.06735003e-01\n",
      "  9.02068621e-01 -1.59824051e+00 -9.89028135e-01 -9.63644286e-01\n",
      "  2.16704696e-01  3.43623941e-01 -1.14133123e+00  7.24381677e-01\n",
      "  1.87934681e+00  1.07975556e+00  1.20667481e+00 -8.87492739e-01\n",
      " -8.36725041e-01  1.02477375e-01  6.44016015e-02  1.35897790e+00\n",
      " -1.57285666e+00 -3.92507682e-01 -4.30583455e-01  1.44782138e+00\n",
      "  3.94391639e-01  9.41978774e-04 -9.25568512e-01  7.70935260e-02\n",
      "  1.42243753e+00 -1.21748278e+00 -3.41739984e-01 -9.38260437e-01\n",
      "  2.13318530e+00  5.17096769e-02  8.25917074e-01 -6.97113871e-01\n",
      " -1.63631629e+00  1.86665489e+00 -1.03979583e+00  2.42088545e-01\n",
      " -1.47132127e+00 -4.17891531e-01  2.24741262e+00  8.89376696e-01\n",
      " -7.47881569e-01 -1.20479085e+00  9.65528243e-01 -3.16356135e-01\n",
      "  2.92856243e-01  6.86305904e-01  1.65936998e-01 -1.00593418e-01\n",
      " -4.81351154e-01  2.69162998e+00  2.80164319e-01 -6.59038097e-01\n",
      "  2.92008462e+00  1.38436175e+00  3.18240092e-01 -5.19426927e-01\n",
      "  8.00533225e-01 -1.38247780e+00  2.29396620e-01 -1.51361116e-01\n",
      "  6.22846281e-01  9.52836319e-01 -5.95578474e-01 -1.28094240e+00\n",
      "  1.09244749e+00  2.01895798e+00  2.28548840e+00 -8.62108890e-01\n",
      "  1.13052326e+00  6.60922055e-01  1.54935677e+00 -2.65588436e-01\n",
      " -1.17499458e-02 -4.55967305e-01  1.46051330e+00  8.97854505e-02\n",
      "  4.45580749e+00  1.65089217e+00  3.69007790e-01 -5.44810776e-01\n",
      "  4.95927036e-01 -1.19209893e+00  1.40553149e-01 -2.02128814e-01\n",
      "  2.57740266e+00 -9.76336210e-01 -1.15402315e+00  3.56315866e-01\n",
      " -1.38669191e-01  1.02898787e+00 -1.02710391e+00  6.98997828e-01\n",
      "  4.45159338e-01  1.37166983e+00  1.34628598e+00  1.24475058e+00\n",
      "  4.83235111e-01  7.37073602e-01 -4.05199606e-01 -1.06517968e+00\n",
      "  4.70543187e-01  5.97462432e-01  1.67627602e+00  1.52397292e+00\n",
      "  1.80319526e+00  3.81699715e-01  1.47320522e+00  1.53666485e+00\n",
      " -1.72515976e+00 -3.54431908e-01 -7.73265418e-01  1.36339033e-02\n",
      "  5.46694734e-01  1.01629594e+00 -8.74800814e-01 -5.70194625e-01\n",
      "  1.72704372e+00 -5.32118852e-01 -9.00184663e-01 -8.49416965e-01\n",
      "  7.49765526e-01 -6.33654248e-01 -7.60573493e-01  8.51300923e-01\n",
      " -1.42055357e+00  5.21310885e-01 -1.64053040e-01  3.90177524e-02\n",
      "  2.65355421e+00 -1.39516972e+00  9.78220168e-01 -8.24033116e-01\n",
      " -7.35189644e-01 -1.61093244e+00  7.75149375e-01 -1.07787161e+00\n",
      "  1.71435179e+00 -1.12863930e+00  1.00360402e+00  6.10154356e-01\n",
      " -1.29363432e+00  1.14321519e+00  1.29551828e+00  3.05548168e-01\n",
      " -6.08270399e-01  5.72078583e-01 -2.78280361e-01  9.14760545e-01\n",
      "  8.13225149e-01  5.34002809e-01  2.06972568e+00 -1.52208897e+00\n",
      " -1.23017470e+00  1.73973564e+00 -1.05248776e+00 -1.25555855e+00\n",
      "  1.28282636e+00  1.32090213e+00 -1.75054361e+00 -7.09805795e-01\n",
      "  1.68896794e+00  6.35538206e-01 -9.50952361e-01  2.63258278e-02\n",
      "  3.47852930e+00 -1.36978587e+00 -6.71730022e-01 -2.27512663e-01\n",
      "  1.79050334e+00  1.18129096e+00  8.63992847e-01  4.07083564e-01\n",
      "  1.30821021e+00  1.10513941e+00  1.84127104e+00  1.91320847e-01\n",
      "  6.73613979e-01 -2.14820738e-01 -7.22497720e-01 -1.30632625e+00\n",
      "  5.59386658e-01 -4.43275380e-01 -6.46346173e-01  8.38608998e-01\n",
      " -8.79014930e-02 -1.58554859e+00 -1.50939704e+00  1.11783134e+00\n",
      " -1.09056353e+00 -4.68659229e-01  8.76684772e-01  3.21199889e+00\n",
      "  4.57851262e-01  2.23472070e+00  1.60012447e+00 -1.00172006e+00\n",
      "  1.58743255e+00  1.16859904e+00  2.19664492e+00  1.81588719e+00]\n",
      "DiabetesPedigreeFunction : [ 4.68491977e-01 -3.65060778e-01  6.04397318e-01 -9.20762614e-01\n",
      "  5.48490910e+00 -8.18078579e-01 -6.76133001e-01 -1.02042653e+00\n",
      " -9.47943682e-01 -7.24454900e-01 -8.48279766e-01  1.96681296e-01\n",
      "  2.92686858e+00 -2.23115200e-01  3.47687230e-01  3.66150065e-02\n",
      "  2.38962958e-01 -6.58012289e-01 -8.72440715e-01  1.72520347e-01\n",
      "  7.01041116e-01 -2.53316387e-01 -6.30489098e-02 -6.30831221e-01\n",
      " -8.05998104e-01 -6.48951933e-01  4.56753625e-02 -6.85193357e-01\n",
      " -4.07342439e-01  2.23862365e-01  1.14499856e+00 -6.18750746e-01\n",
      " -8.57340122e-01  1.21178329e-01  1.49231221e+00 -1.56672589e-01\n",
      "  5.83256487e-01  9.39972614e-02  2.77284253e+00 -6.06670272e-01\n",
      "  6.76880166e-01 -7.15394544e-01  7.52383133e-01 -5.37207542e-01\n",
      "  4.29196222e+00  2.78224501e-01  3.44667112e-01 -3.86201608e-01\n",
      " -5.03986237e-01  5.77558373e-02  1.63459991e-01 -3.92241846e-01\n",
      " -1.47270110e-02  7.43322777e-01  1.48023173e+00  3.95370893e+00\n",
      " -9.02641902e-01 -5.07006355e-01 -6.09690390e-01  6.85940522e-01\n",
      " -6.45931815e-01 -8.12038342e-01  1.15707904e+00  1.12687785e+00\n",
      " -4.16402795e-01 -8.54320003e-01  1.19332046e+00 -1.83853657e-01\n",
      "  3.35606756e-01 -7.27475019e-01 -2.29155437e-01 -1.00230582e+00\n",
      " -2.44256030e-01 -3.07678523e-01 -4.97945999e-01 -1.11707033e+00\n",
      "  8.91308592e-01 -7.09354307e-01 -7.39555494e-01  6.82920403e-01\n",
      " -8.87541309e-01 -4.46603982e-01 -9.63044276e-01 -9.26802852e-01\n",
      " -8.72098593e-02 -6.36871459e-01 -5.88549560e-01  8.73187880e-01\n",
      " -6.54992171e-01 -1.03250701e+00 -4.49624101e-01 -3.49960184e-01\n",
      " -4.43583863e-01  2.26546259e+00 -8.84521190e-01 -6.33851340e-01\n",
      " -5.70428848e-01  1.38358794e+00  9.93992627e-01 -7.99957867e-01\n",
      " -5.58348373e-01 -4.10362558e-01 -6.79153120e-01 -8.24118817e-01\n",
      "  2.14802008e-01 -8.45259647e-01  3.50707349e-01  2.02721534e-01\n",
      " -7.60696324e-01  5.50035182e-01 -7.51635968e-01  8.67147643e-01\n",
      " -6.39891577e-01 -2.04994488e-01 -8.63380359e-01 -5.85529441e-01\n",
      "  7.28564306e-02 -6.00287912e-02 -2.08014606e-01  8.12785507e-01\n",
      " -3.34859591e-01  1.93928977e+00 -4.49281978e-02  5.28894351e-01\n",
      " -1.15935199e+00  3.77888417e-01  1.81580703e-01  6.98020997e-01\n",
      " -9.44923564e-01 -6.15730628e-01 -5.61368492e-01 -4.64724694e-01\n",
      " -6.03650153e-01  3.02385450e-01 -1.13519104e+00  2.80304371e+00\n",
      " -7.66736562e-01 -1.16841235e+00 -2.20095081e-01 -1.20431165e-01\n",
      "  2.16579867e+00  6.49699098e-01 -1.01136617e+00  4.98693164e-01\n",
      "  1.09063642e+00 -7.33515256e-01  1.04231453e+00 -8.09018223e-01\n",
      " -3.13718760e-01  8.18825744e-01  7.55403252e-01 -6.51972052e-01\n",
      "  7.16141709e-01 -2.64653629e-03  6.98363120e-02 -8.81501071e-01\n",
      "  2.11781890e-01  9.09429304e-01  6.22518030e-01  7.46342896e-01\n",
      " -2.71437099e-01 -4.61704575e-01 -8.51299885e-01  1.46211102e+00\n",
      " -1.17143246e+00  7.64463608e-01 -5.22106949e-01 -6.88213476e-01\n",
      "  8.24865981e-01  4.32250553e-01  2.56445434e+00  5.07753520e-01\n",
      " -9.96265581e-01 -2.95598048e-01 -2.68416980e-01  3.20506162e-01\n",
      " -1.01438629e+00 -2.32175556e-01 -8.60360241e-01  1.30808497e+00\n",
      " -9.72104632e-01  1.21446129e+00 -7.12374425e-01  9.51710966e-01\n",
      " -1.95934132e-01  4.02049366e-01 -9.69084513e-01 -5.52308136e-01\n",
      " -3.52980303e-01 -5.49288017e-01 -2.92577929e-01 -9.29822970e-01\n",
      " -1.23451283e-01  8.15805625e-01  1.27218567e-01 -2.37873670e-02\n",
      "  2.27150283e+00  1.81244479e+00  1.00607310e+00 -7.93917630e-01\n",
      "  5.86276606e-01 -1.12009045e+00 -8.27138935e-01  5.43994944e-01\n",
      "  5.60873397e+00 -1.15633187e+00  5.22854114e-01 -7.06334188e-01\n",
      " -2.35195674e-01 -5.40227661e-01  2.15144131e-02  6.46678979e-01\n",
      "  1.08459619e+00  3.32586637e-01 -7.81495032e-02 -2.11034725e-01\n",
      "  2.55539398e+00 -4.31503388e-01  2.23828152e+00 -1.35531758e-01\n",
      " -5.73448966e-01 -9.93245462e-01 -2.77477336e-01 -5.67408729e-01\n",
      " -6.73112883e-01  1.37150746e+00  2.57083670e-01 -1.14727152e+00\n",
      "  5.53055300e-01  2.66109814e+00  4.23190197e-01 -8.21098698e-01\n",
      " -7.42575612e-01  1.58593589e+00  1.39264829e+00  1.90002823e+00\n",
      " -1.18955318e+00 -7.00293951e-01  2.00573238e+00 -1.03854724e+00\n",
      " -1.50632351e-01 -6.67072645e-01  6.19497911e-01 -5.31167305e-01\n",
      " -5.39885538e-02  8.21845863e-01  1.23560212e+00 -5.79489204e-01\n",
      " -6.42911696e-01  4.44331028e-01  1.01513346e+00 -3.98282083e-01\n",
      " -1.14390927e-01  8.61107405e-01  4.26210316e-01  6.64799691e-01\n",
      "  1.45339279e-01 -1.80833538e-01  1.11177726e+00  1.10875714e+00\n",
      " -9.53983920e-01 -7.75796918e-01 -4.40563745e-01  2.77586265e+00\n",
      "  1.21748141e+00 -4.79825287e-01 -1.17411046e-01  4.65471859e-01\n",
      "  1.97855132e+00 -4.73785050e-01 -3.83181490e-01 -1.03552712e+00\n",
      "  1.66480110e-01 -8.30159054e-01  7.82584320e-01 -9.78144869e-01\n",
      " -1.05364784e+00 -1.04156736e+00 -1.05666795e+00  3.03257273e+00\n",
      " -9.23782733e-01  1.38962817e+00 -3.89221727e-01  1.27184355e+00\n",
      " -4.25463151e-01  3.73582388e-04  6.07417437e-01 -2.50296268e-01\n",
      "  3.96351252e-02 -3.71101015e-01 -5.82509322e-01 -3.80161371e-01\n",
      " -6.64052527e-01 -6.91233595e-01  3.26546400e-01  2.63123907e-01\n",
      " -5.13046593e-01  2.93325094e-01 -2.83517573e-01 -2.62376743e-01\n",
      "  8.19167867e-02 -5.00966118e-01 -7.18414663e-01  5.02887118e+00\n",
      "  3.80270300e+00  2.20842246e-01 -7.45595731e-01  1.03929441e+00\n",
      "  1.69500228e-01  1.12117973e-01  1.65841874e+00  1.05439500e+00\n",
      "  1.43492995e+00  2.40438805e+00 -7.57676206e-01  5.68155894e-01\n",
      " -7.03314069e-01  1.44097019e+00 -8.41897406e-02 -2.68074857e-02\n",
      "  1.00003286e+00  3.40706745e+00  1.42586960e+00 -8.33179173e-01\n",
      " -6.97273832e-01 -9.38883326e-01 -1.01740641e+00 -2.89557811e-01\n",
      "  2.17183891e+00  6.95000878e-01  6.10437555e-01  1.82452526e+00\n",
      "  1.87620940e-01  1.88190752e+00  2.48023314e-01  4.59431621e-01\n",
      " -7.63716443e-01  1.06077736e-01  2.69164145e-01 -1.53652470e-01\n",
      "  1.33258804e-01 -6.27811103e-01 -4.34523507e-01 -7.21434781e-01\n",
      " -1.09894962e+00  2.01177262e+00 -9.81164988e-01  7.70503845e-01\n",
      " -1.11370809e-01  7.58765493e-02 -7.30495138e-01  1.45909090e+00\n",
      "  5.88356477e+00  5.62115656e-01 -4.28483270e-01  1.15138092e-01\n",
      " -5.64388610e-01 -1.71773182e-01 -2.74457217e-01  1.08761631e+00\n",
      "  7.88966680e-02 -7.84857274e-01 -3.25799235e-01  1.59801636e+00\n",
      " -3.58678417e-02  7.88624557e-01 -1.68753064e-01  7.04061234e-01\n",
      "  1.66143885e+00 -6.12710509e-01  3.86948773e-01  2.99365331e-01\n",
      "  4.08089604e-01 -9.11702258e-01 -7.90897511e-01 -1.04458748e+00\n",
      "  7.22181946e-01 -1.77471297e-02 -9.35863208e-01 -1.59692708e-01\n",
      "  4.77552333e-01 -3.22779116e-01  1.93661178e-01  2.07519511e+00\n",
      "  4.74532215e-01 -5.43247780e-01 -9.87205225e-01  2.02989333e+00\n",
      " -8.99621783e-01  2.26882483e-01 -9.32843089e-01  8.03725151e-01\n",
      " -4.76805169e-01  1.49835245e+00 -1.89893894e-01 -5.28147186e-01\n",
      "  1.60439872e-01 -9.60024157e-01  9.03389067e-01 -1.10196973e+00\n",
      "  6.37960746e-02  7.40302658e-01  1.34432639e+00  8.79570240e-02\n",
      "  2.35304603e+00  7.94664795e-01  1.00305298e+00  5.71176012e-01\n",
      "  2.32922721e-01  1.06647548e+00 -1.47612233e-01  1.69768028e+00\n",
      " -9.41903445e-01 -3.95261964e-01  6.28558267e-01  3.59767705e-01\n",
      " -5.19086830e-01 -1.05968807e+00  9.09771427e-02 -2.14054844e-01\n",
      "  3.89968892e-01  8.33926337e-01 -4.04322320e-01 -1.26471402e-01\n",
      "  1.26882343e+00  1.03023405e+00  6.67819810e-01  3.11445806e-01\n",
      " -3.04658404e-01 -8.02977986e-01 -1.65732945e-01  2.06009452e+00\n",
      "  1.36848734e+00 -8.96601665e-01  3.70605920e+00  6.34598505e-01\n",
      " -8.39219410e-01 -2.17074962e-01 -1.12311057e+00  2.37418686e+00\n",
      "  3.05747692e-02 -1.00834606e+00  3.65807942e-01  1.22654177e+00\n",
      " -9.50963801e-01  2.44666971e+00 -9.99285700e-01 -6.82173239e-01\n",
      "  3.70303908e+00  2.98727095e+00 -3.77141252e-01 -3.31839472e-01\n",
      " -2.38215793e-01 -9.90225344e-01  7.85604439e-01 -1.07780879e+00\n",
      " -2.07672484e-02  5.34934588e-01  1.20540093e+00 -9.75124750e-01\n",
      "  6.73860047e-01 -5.10026474e-01  4.17149960e-01  7.79564201e-01\n",
      " -7.51293845e-02 -5.09684351e-02 -1.02344665e+00 -9.57004038e-01\n",
      "  2.08425547e+00  2.47687090e+00 -8.75460834e-01  2.78492300e+00\n",
      " -7.69756680e-01  4.80572452e-01  1.23258200e+00  4.29230435e-01\n",
      " -4.22443032e-01 -3.19758997e-01 -8.78480953e-01  1.07553583e+00\n",
      " -4.13382676e-01  1.16009915e+00  1.25070271e+00 -9.92903340e-02\n",
      " -6.61032408e-01  3.80908536e-01  1.30506485e+00  3.35948878e-02\n",
      "  2.81244619e-01 -1.06874843e+00 -8.90561427e-01 -8.93581546e-01\n",
      " -5.34187424e-01 -9.32500966e-02 -3.62040659e-01  1.06949559e+00\n",
      "  1.50439268e+00  3.71848180e-01 -4.67744813e-01 -6.24790984e-01\n",
      "  5.25874232e-01 -1.38551877e-01  2.66144026e-01  1.30238686e-01\n",
      " -5.70086725e-02  9.45670728e-01  7.91644676e-01  2.12049689e+00\n",
      "  4.86954812e-02 -3.43919947e-01  1.88492764e+00 -1.92914013e-01\n",
      "  2.14465784e+00 -7.54656087e-01  1.76714301e+00  8.88288474e-01\n",
      " -9.08682139e-01]\n",
      "Age : [ 1.4259954  -0.19067191 -0.10558415 -1.04154944 -0.0204964  -0.27575966\n",
      " -0.61611067 -0.36084741  1.68125866  1.76634642  0.06459135  2.02160968\n",
      "  2.19178518  1.51108316 -0.53102292  0.66020563  0.83038113 -0.95646168\n",
      "  0.40494237  2.27687294 -0.44593516  1.00055664  0.14967911  1.08564439\n",
      "  1.93652192  0.31985461  1.2558199   0.57511787 -0.70119842 -0.78628618\n",
      "  2.10669743  0.74529338  0.91546889  0.49003012  0.23476686 -0.87137393\n",
      "  2.36196069  3.04266271  2.44704844  1.85143417  2.7023117   1.17073215\n",
      "  1.59617091  2.78739945  1.34090765  2.5321362   2.87248721  3.29792597\n",
      "  4.06371575  2.61722395  3.12775047  2.95757496]\n"
     ]
    }
   ],
   "source": [
    "for col in colToScale:\n",
    "    print(f'{col} : {data[col].unique()}')"
   ]
  },
  {
   "cell_type": "code",
   "execution_count": 45,
   "metadata": {},
   "outputs": [],
   "source": [
    "x = data.drop('Outcome',axis=1)\n",
    "y = data['Outcome'].astype('float32')\n",
    "y.shape\n",
    "from sklearn.model_selection import train_test_split\n",
    "x_train,x_test,y_train,y_test = train_test_split(x,y,test_size=0.2) \n"
   ]
  },
  {
   "cell_type": "code",
   "execution_count": 46,
   "metadata": {},
   "outputs": [
    {
     "data": {
      "text/plain": [
       "(154, 8)"
      ]
     },
     "execution_count": 46,
     "metadata": {},
     "output_type": "execute_result"
    }
   ],
   "source": [
    "x_test.shape"
   ]
  },
  {
   "cell_type": "code",
   "execution_count": 47,
   "metadata": {},
   "outputs": [
    {
     "data": {
      "text/plain": [
       "(154,)"
      ]
     },
     "execution_count": 47,
     "metadata": {},
     "output_type": "execute_result"
    }
   ],
   "source": [
    "y_test.shape"
   ]
  },
  {
   "cell_type": "code",
   "execution_count": 48,
   "metadata": {},
   "outputs": [
    {
     "data": {
      "text/plain": [
       "(614, 8)"
      ]
     },
     "execution_count": 48,
     "metadata": {},
     "output_type": "execute_result"
    }
   ],
   "source": [
    "x_train.shape"
   ]
  },
  {
   "cell_type": "code",
   "execution_count": 49,
   "metadata": {},
   "outputs": [],
   "source": [
    "from sklearn.linear_model import LogisticRegression\n",
    "from sklearn.metrics import classification_report"
   ]
  },
  {
   "cell_type": "code",
   "execution_count": 51,
   "metadata": {},
   "outputs": [
    {
     "name": "stdout",
     "output_type": "stream",
     "text": [
      "0.7792207792207793\n"
     ]
    }
   ],
   "source": [
    "model = LogisticRegression()\n",
    "model.fit(x_train,y_train)\n",
    "acc = model.score(x_test,y_test)\n",
    "print(acc)\n"
   ]
  },
  {
   "cell_type": "code",
   "execution_count": 53,
   "metadata": {},
   "outputs": [
    {
     "name": "stdout",
     "output_type": "stream",
     "text": [
      "              precision    recall  f1-score   support\n",
      "\n",
      "         0.0       0.79      0.91      0.84       101\n",
      "         1.0       0.76      0.53      0.62        53\n",
      "\n",
      "    accuracy                           0.78       154\n",
      "   macro avg       0.77      0.72      0.73       154\n",
      "weighted avg       0.78      0.78      0.77       154\n",
      "\n"
     ]
    }
   ],
   "source": [
    "y_predict = model.predict(x_test)\n",
    "\n",
    "clRep = classification_report(y_test,y_predict)\n",
    "print(clRep)"
   ]
  }
 ],
 "metadata": {
  "kernelspec": {
   "display_name": "Python 3",
   "language": "python",
   "name": "python3"
  },
  "language_info": {
   "codemirror_mode": {
    "name": "ipython",
    "version": 3
   },
   "file_extension": ".py",
   "mimetype": "text/x-python",
   "name": "python",
   "nbconvert_exporter": "python",
   "pygments_lexer": "ipython3",
   "version": "3.11.6"
  }
 },
 "nbformat": 4,
 "nbformat_minor": 2
}
